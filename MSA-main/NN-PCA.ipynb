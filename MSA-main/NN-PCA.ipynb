{
  "cells": [
    {
      "cell_type": "markdown",
      "source": [
        "Principal Component Analysis (PCA) is a powerful dimensionality reduction technique (reduces the curse of dimensionality). Its main goal is to transform a dataset with potentially correlated variables/dimensions into a new set of uncorrelated variables called principal components (PCs). These principal components are ordered by the amount of variance they explain in the original data.\n",
        "\n",
        "Why Use PCA in the preprocessing phase?\n",
        "\n",
        "* Dimensionality Reduction: Simplifies complex datasets by reducing the\n",
        "number of variables, making analysis and modeling more manageable and less computationally expensive.\n",
        "*Noise Reduction: Less important principal components often correspond to noise in the data. Discarding these can lead to a cleaner representation.\n",
        "-Data Visualization: Reduces high-dimensional data to 2D or 3D, making it possible to visualize patterns and clusters.\n",
        "*Feature Extraction: Creates new, **uncorrelated features** that can improve the performance of some machine learning algorithms by addressing multicollinearity.\n",
        "*Improved Algorithm Performance (reduce overfitting): Can help prevent overfitting and improve the speed and stability of certain algorithms."
      ],
      "metadata": {
        "id": "NSnwylu-oqr_"
      }
    },
    {
      "cell_type": "code",
      "execution_count": 1,
      "metadata": {
        "id": "jiklt8zBhFWb",
        "outputId": "f91620e5-d98f-4ac7-b483-b9af777707f6",
        "colab": {
          "base_uri": "https://localhost:8080/"
        }
      },
      "outputs": [
        {
          "output_type": "stream",
          "name": "stdout",
          "text": [
            "Cloning into 'GenericML'...\n",
            "remote: Enumerating objects: 30, done.\u001b[K\n",
            "remote: Counting objects: 100% (30/30), done.\u001b[K\n",
            "remote: Compressing objects: 100% (23/23), done.\u001b[K\n",
            "remote: Total 30 (delta 7), reused 20 (delta 3), pack-reused 0 (from 0)\u001b[K\n",
            "Receiving objects: 100% (30/30), 3.92 MiB | 2.53 MiB/s, done.\n",
            "Resolving deltas: 100% (7/7), done.\n"
          ]
        }
      ],
      "source": [
        "import numpy as np\n",
        "import matplotlib.pyplot as plt\n",
        "import pandas as pd\n",
        "%matplotlib inline\n",
        "\n",
        "#!git clone https://github.com/Abudo-S/GenericML.git"
      ]
    },
    {
      "cell_type": "code",
      "execution_count": 2,
      "metadata": {
        "id": "w2ZQK7hHhFWd"
      },
      "outputs": [],
      "source": [
        "from numpy import linalg as LA\n",
        "from sklearn.datasets import load_iris"
      ]
    },
    {
      "cell_type": "markdown",
      "metadata": {
        "id": "B5I_Z3wfhFWe"
      },
      "source": [
        "We use the iris dataset available in sklearn"
      ]
    },
    {
      "cell_type": "code",
      "execution_count": 3,
      "metadata": {
        "id": "z83Yv3MdhFWf"
      },
      "outputs": [],
      "source": [
        "iris = load_iris()"
      ]
    },
    {
      "cell_type": "markdown",
      "metadata": {
        "id": "8-rc7kzAhFWh"
      },
      "source": [
        "The dataset is split in the matrix of datapoint and the vector of labels"
      ]
    },
    {
      "cell_type": "code",
      "execution_count": 4,
      "metadata": {
        "id": "pd71mn52hFWi"
      },
      "outputs": [],
      "source": [
        "Xh = iris.data\n",
        "y = iris.target\n",
        "X = Xh.T"
      ]
    },
    {
      "cell_type": "markdown",
      "metadata": {
        "id": "ug78-n7rhFWj"
      },
      "source": [
        "We apply SVD to the data part.\n",
        "Before applying SVD for PCA, it's crucial to center the data. This involves subtracting the mean of each feature from all the data points for that feature. Let X be our m×n data matrix (m samples, n features). We create a new centered matrix B where each column has a mean of zero.  \n",
        "\n",
        "* Applying Singular Value Decomposition:\n",
        "\n",
        "  We then compute the SVD of the centered data matrix B: B=UΣVT Where:\n",
        "  U is an m×m unitary matrix whose columns are the left-singular vectors.   \n",
        "\n",
        "  Σ is an m×n diagonal matrix with non-negative real numbers on the diagonal, called the singular values (σ1​≥σ2​≥</2>...≥σn​≥0).\n",
        "  VT is the transpose of an n×n unitary matrix V, whose columns are the right-singular vectors.\n",
        "\n",
        "* Relationship to Principal Components:\n",
        "\n",
        "  Right-Singular Vectors (V): The columns of the matrix V (or rows of VT) are the principal components (PCs) of the original data. Each column of V represents a direction in the original feature space that corresponds to a principal component. The first column of V is the first principal component, the second column is the second principal component, and so on. These are the same eigenvectors you would obtain from the eigendecomposition of the covariance matrix of the centered data (BTB)."
      ]
    },
    {
      "cell_type": "code",
      "execution_count": 5,
      "metadata": {
        "id": "W0joEMemhFWj",
        "outputId": "805e495f-8597-48d0-ff0d-272bd2f774b2",
        "colab": {
          "base_uri": "https://localhost:8080/"
        }
      },
      "outputs": [
        {
          "output_type": "execute_result",
          "data": {
            "text/plain": [
              "((4, 4), (4,), (4, 150))"
            ]
          },
          "metadata": {},
          "execution_count": 5
        }
      ],
      "source": [
        "U, s, Vh = LA.svd(X, full_matrices=False)\n",
        "U.shape, s.shape, Vh.shape"
      ]
    },
    {
      "cell_type": "markdown",
      "metadata": {
        "id": "eDexjP_chFWk"
      },
      "source": [
        "The data are projected onto the two principal directions"
      ]
    },
    {
      "cell_type": "code",
      "execution_count": 10,
      "metadata": {
        "id": "L-HIB9LbhFWl",
        "outputId": "45acc712-b39b-4688-d3b7-b4db9c219fc1",
        "colab": {
          "base_uri": "https://localhost:8080/",
          "height": 211
        }
      },
      "outputs": [
        {
          "output_type": "error",
          "ename": "ValueError",
          "evalue": "matmul: Input operand 1 has a mismatch in its core dimension 0, with gufunc signature (n?,k),(k,m?)->(n?,m?) (size 150 is different from 4)",
          "traceback": [
            "\u001b[0;31m---------------------------------------------------------------------------\u001b[0m",
            "\u001b[0;31mValueError\u001b[0m                                Traceback (most recent call last)",
            "\u001b[0;32m<ipython-input-10-d3a7653a308e>\u001b[0m in \u001b[0;36m<cell line: 0>\u001b[0;34m()\u001b[0m\n\u001b[1;32m      1\u001b[0m \u001b[0mP\u001b[0m \u001b[0;34m=\u001b[0m \u001b[0mU\u001b[0m\u001b[0;34m[\u001b[0m\u001b[0;34m:\u001b[0m\u001b[0;34m,\u001b[0m\u001b[0;34m:\u001b[0m\u001b[0;36m2\u001b[0m\u001b[0;34m]\u001b[0m\u001b[0;34m\u001b[0m\u001b[0;34m\u001b[0m\u001b[0m\n\u001b[1;32m      2\u001b[0m \u001b[0;31m#@: the infix operator for matrix dot multiplication\u001b[0m\u001b[0;34m\u001b[0m\u001b[0;34m\u001b[0m\u001b[0m\n\u001b[0;32m----> 3\u001b[0;31m \u001b[0mR\u001b[0m \u001b[0;34m=\u001b[0m \u001b[0mP\u001b[0m\u001b[0;34m.\u001b[0m\u001b[0mT\u001b[0m \u001b[0;34m@\u001b[0m \u001b[0mX\u001b[0m\u001b[0;34m\u001b[0m\u001b[0;34m\u001b[0m\u001b[0m\n\u001b[0m\u001b[1;32m      4\u001b[0m \u001b[0mplt\u001b[0m\u001b[0;34m.\u001b[0m\u001b[0mscatter\u001b[0m\u001b[0;34m(\u001b[0m\u001b[0mR\u001b[0m\u001b[0;34m[\u001b[0m\u001b[0;36m0\u001b[0m\u001b[0;34m,\u001b[0m\u001b[0;34m:\u001b[0m\u001b[0;34m]\u001b[0m\u001b[0;34m,\u001b[0m \u001b[0mR\u001b[0m\u001b[0;34m[\u001b[0m\u001b[0;36m1\u001b[0m\u001b[0;34m,\u001b[0m\u001b[0;34m:\u001b[0m\u001b[0;34m]\u001b[0m\u001b[0;34m,\u001b[0m \u001b[0mc\u001b[0m\u001b[0;34m=\u001b[0m\u001b[0my\u001b[0m\u001b[0;34m)\u001b[0m\u001b[0;34m\u001b[0m\u001b[0;34m\u001b[0m\u001b[0m\n",
            "\u001b[0;31mValueError\u001b[0m: matmul: Input operand 1 has a mismatch in its core dimension 0, with gufunc signature (n?,k),(k,m?)->(n?,m?) (size 150 is different from 4)"
          ]
        }
      ],
      "source": [
        "P = U[:,:2]\n",
        "#@: the infix operator for matrix dot multiplication\n",
        "R = P.T @ X\n",
        "plt.scatter(R[0,:], R[1,:], c=y)"
      ]
    },
    {
      "cell_type": "code",
      "execution_count": 7,
      "metadata": {
        "id": "_IXUnBzOhFWm"
      },
      "outputs": [],
      "source": [
        "import seaborn as sns\n",
        "from matplotlib.colors import ListedColormap\n",
        "from sklearn import neighbors, datasets\n",
        "from sklearn.inspection import DecisionBoundaryDisplay"
      ]
    },
    {
      "cell_type": "markdown",
      "metadata": {
        "id": "qPVcQp6BhFWm"
      },
      "source": [
        "We define a new data matrix containing only the two principal directions (most variant PCs of PCA)"
      ]
    },
    {
      "cell_type": "code",
      "execution_count": 8,
      "metadata": {
        "id": "GfpjkHE6hFWn"
      },
      "outputs": [],
      "source": [
        "n_neighbors = 49 # here we select the k in k-NN\n",
        "\n",
        "X = R[:2,:].T"
      ]
    },
    {
      "cell_type": "markdown",
      "metadata": {
        "id": "oVlBogBwhFWn"
      },
      "source": [
        "We plot the decision surfaces along with the datapoints"
      ]
    },
    {
      "cell_type": "code",
      "execution_count": 9,
      "metadata": {
        "id": "bo8tdBQDhFWn",
        "outputId": "9e3c5e61-77a1-4717-b0e1-1925ee4244fc",
        "colab": {
          "base_uri": "https://localhost:8080/",
          "height": 452
        }
      },
      "outputs": [
        {
          "output_type": "display_data",
          "data": {
            "text/plain": [
              "<Figure size 640x480 with 1 Axes>"
            ],
            "image/png": "[encoded data removed]"
          },
          "metadata": {}
        }
      ],
      "source": [
        "# Create color maps\n",
        "cmap_light = ListedColormap([\"orange\", \"cyan\", \"cornflowerblue\"])\n",
        "cmap_bold = [\"darkorange\", \"c\", \"darkblue\"]\n",
        "\n",
        "clf = neighbors.KNeighborsClassifier(n_neighbors, weights=\"uniform\")\n",
        "clf.fit(X, y)\n",
        "\n",
        "_, ax = plt.subplots()\n",
        "DecisionBoundaryDisplay.from_estimator(\n",
        "    clf,\n",
        "    X,\n",
        "    cmap=cmap_light,\n",
        "    ax=ax,\n",
        "    response_method=\"predict\",\n",
        "    plot_method=\"pcolormesh\",\n",
        "    shading=\"auto\",\n",
        "    )\n",
        "\n",
        "sns.scatterplot(\n",
        "        x=X[:, 0],\n",
        "        y=X[:, 1],\n",
        "        hue=iris.target_names[y],\n",
        "        palette=cmap_bold,\n",
        "        alpha=1.0,\n",
        "        edgecolor=\"black\",\n",
        "    )\n",
        "\n",
        "plt.title(\n",
        "    \"3-Class classification (k = %i)\" % n_neighbors\n",
        "    )\n",
        "\n",
        "plt.show()"
      ]
    }
  ],
  "metadata": {
    "kernelspec": {
      "display_name": "Python 3 (ipykernel)",
      "language": "python",
      "name": "python3"
    },
    "language_info": {
      "codemirror_mode": {
        "name": "ipython",
        "version": 3
      },
      "file_extension": ".py",
      "mimetype": "text/x-python",
      "name": "python",
      "nbconvert_exporter": "python",
      "pygments_lexer": "ipython3",
      "version": "3.8.16"
    },
    "latex_envs": {
      "LaTeX_envs_menu_present": true,
      "autoclose": false,
      "autocomplete": true,
      "bibliofile": "biblio.bib",
      "cite_by": "apalike",
      "current_citInitial": 1,
      "eqLabelWithNumbers": true,
      "eqNumInitial": 1,
      "hotkeys": {
        "equation": "Ctrl-E",
        "itemize": "Ctrl-I"
      },
      "labels_anchors": false,
      "latex_user_defs": false,
      "report_style_numbering": false,
      "user_envs_cfg": false
    },
    "colab": {
      "provenance": []
    }
  },
  "nbformat": 4,
  "nbformat_minor": 0
}