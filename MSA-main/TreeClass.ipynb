{
  "cells": [
    {
      "cell_type": "code",
      "execution_count": 8,
      "metadata": {
        "id": "YCOTuTVxainO"
      },
      "outputs": [],
      "source": [
        "import numpy as np\n",
        "import pylab as pl\n",
        "import pandas as pd\n",
        "import seaborn as sns\n",
        "import matplotlib.pyplot as plt\n",
        "\n",
        "from sklearn import clone\n",
        "from sklearn.metrics import accuracy_score\n",
        "from sklearn.tree import DecisionTreeClassifier\n",
        "\n",
        "from sklearn.model_selection import train_test_split, cross_val_score, validation_curve, learning_curve\n",
        "\n",
        "from sklearn.datasets import load_iris\n",
        "\n",
        "%matplotlib inline\n",
        "\n",
        "#!git clone https://github.com/Abudo-S/GenericML.git"
      ]
    },
    {
      "cell_type": "markdown",
      "source": [
        "The operation X = (X - mean) / std is a common data preprocessing technique called standardization or Z-score normalization. Here's why it's performed:\n",
        "\n",
        "* To Bring Features to a Similar Scale:\n",
        "\n",
        "  Machine learning algorithms are often sensitive to the scale of the input features. Features with larger values can dominate the learning process compared to features with smaller values.   \n",
        "\n",
        "  Standardization transforms each feature to have a mean of approximately 0 and a standard deviation of approximately 1. This puts all features on a comparable scale, preventing features with larger ranges from unduly influencing the model.\n",
        "\n",
        "* Consider these indicators that suggest a need for standardization:\n",
        "\n",
        "  * Large differences in the range of your features: If the ratio of the maximum to the minimum value (or the difference between them) varies greatly across features.   \n",
        "\n",
        "  * The algorithm you are using is known to be sensitive to feature scale.\n",
        "  * You observe unstable training or poor performance with scale-sensitive algorithms.\n",
        "  * You want to ensure all features contribute equally to the model.\n",
        "  \n",
        "It's often a good idea to experiment with and without standardization when using scale-sensitive algorithms. Cross-validation can help you assess whether standardization improves your model's performance on your specific dataset."
      ],
      "metadata": {
        "id": "P2yrl7JRjavi"
      }
    },
    {
      "cell_type": "code",
      "execution_count": 9,
      "metadata": {
        "id": "2Yo1eta3ainQ",
        "outputId": "8d689ff4-f3cc-4585-8bd8-da9516a82939",
        "colab": {
          "base_uri": "https://localhost:8080/",
          "height": 825
        }
      },
      "outputs": [
        {
          "output_type": "stream",
          "name": "stdout",
          "text": [
            "Before standarization:[[5.7 4.5]\n",
            " [5.6 3.6]\n",
            " [5.1 1.5]\n",
            " [5.8 5.1]\n",
            " [6.8 5.5]\n",
            " [5.5 1.4]\n",
            " [7.7 6.1]\n",
            " [6.3 4.9]\n",
            " [5.1 1.6]\n",
            " [5.5 4.4]]\n",
            "After standarization:[[-0.17367395  0.42173371]\n",
            " [-0.29484182 -0.08980313]\n",
            " [-0.90068117 -1.2833891 ]\n",
            " [-0.05250608  0.76275827]\n",
            " [ 1.15917263  0.99010798]\n",
            " [-0.41600969 -1.34022653]\n",
            " [ 2.24968346  1.33113254]\n",
            " [ 0.55333328  0.64908342]\n",
            " [-0.90068117 -1.22655167]\n",
            " [-0.41600969  0.36489628]]\n"
          ]
        },
        {
          "output_type": "display_data",
          "data": {
            "text/plain": [
              "<Figure size 640x480 with 1 Axes>"
            ],
            "image/png": "[encoded data removed]"
          },
          "metadata": {}
        }
      ],
      "source": [
        "# Parameters\n",
        "n_classes = 3\n",
        "plot_colors = \"rmb\"\n",
        "plot_step = 0.005\n",
        "#pl.set_cmap(pl.cm.Paired)\n",
        "pl.set_cmap(pl.cm.summer)\n",
        "\n",
        "# Load data\n",
        "iris = load_iris()\n",
        "\n",
        "model = DecisionTreeClassifier()\n",
        "# We only take the two corresponding features\n",
        "X = iris.data[:, [0,2]]\n",
        "y = iris.target\n",
        "\n",
        "# Shuffle\n",
        "idx = np.arange(X.shape[0])\n",
        "np.random.seed(13)\n",
        "np.random.shuffle(idx)\n",
        "X = X[idx]\n",
        "y = y[idx]\n",
        "\n",
        "# Standardize\n",
        "mean = X.mean(axis=0)\n",
        "std = X.std(axis=0)\n",
        "\n",
        "print(f'Before standarization:{X[:10]}')\n",
        "\n",
        "X = (X - mean) / std\n",
        "\n",
        "print(f'After standarization:{X[:10]}')\n",
        "\n",
        "# Train\n",
        "clf = clone(model)\n",
        "clf = model.fit(X, y)\n",
        "\n",
        "# Plot the decision boundary\n",
        "pl.plot()\n",
        "\n",
        "x_min, x_max = X[:, 0].min() - 1, X[:, 0].max() + 1\n",
        "y_min, y_max = X[:, 1].min() - 1, X[:, 1].max() + 1\n",
        "xx, yy = np.meshgrid(np.arange(x_min, x_max, plot_step), np.arange(y_min, y_max, plot_step))\n",
        "\n",
        "Z = model.predict(np.c_[xx.ravel(), yy.ravel()])\n",
        "Z = Z.reshape(xx.shape)\n",
        "cs = pl.contourf(xx, yy, Z)\n",
        "\n",
        "#pl.xlabel(\"%s / %s\" % (iris.feature_names[pair[0]],\n",
        "#                       model.__class__.__name__))\n",
        "#pl.ylabel(iris.feature_names[pair[1]])\n",
        "pl.axis(\"tight\")\n",
        "\n",
        "# Plot the training points\n",
        "for i, c in zip(range(n_classes), plot_colors):\n",
        "    idx = np.where(y == i)\n",
        "    pl.scatter(X[idx, 0], X[idx, 1], c=c, label=iris.target_names[i])\n",
        "\n",
        "pl.axis(\"tight\")\n",
        "\n",
        "pl.suptitle(\"Decision surface of a decision tree\")\n",
        "pl.show()"
      ]
    },
    {
      "cell_type": "markdown",
      "metadata": {
        "id": "imopOoe_ainU"
      },
      "source": [
        "### Forest Cover Type Dataset\n",
        "This dataset includes information on trees. More specifically, the type (which is the label to predict), shadow coverage, distance to nearby landmarks (e.g., roads), soil type, and local topography. There are 7 classes of tree types, 55 features, and a total of 15120 data points."
      ]
    },
    {
      "cell_type": "code",
      "execution_count": 10,
      "metadata": {
        "id": "rYpG71bnainW",
        "outputId": "abd31f85-6625-48f0-d4df-c6ee9aba3f51",
        "colab": {
          "base_uri": "https://localhost:8080/"
        }
      },
      "outputs": [
        {
          "output_type": "execute_result",
          "data": {
            "text/plain": [
              "(15120, 56)"
            ]
          },
          "metadata": {},
          "execution_count": 10
        }
      ],
      "source": [
        "forest = pd.read_csv('/content/GenericML/MSA-main/Datasets/forest-cover-type.csv')\n",
        "forest.shape"
      ]
    },
    {
      "cell_type": "code",
      "execution_count": 11,
      "metadata": {
        "id": "LcNtiOxOainX",
        "outputId": "e48e673b-c108-44b5-917f-3032d468b84c",
        "colab": {
          "base_uri": "https://localhost:8080/",
          "height": 255
        }
      },
      "outputs": [
        {
          "output_type": "execute_result",
          "data": {
            "text/plain": [
              "   Id  Elevation  Aspect  Slope  Horizontal_Distance_To_Hydrology  \\\n",
              "0   1       2596      51      3                               258   \n",
              "1   2       2590      56      2                               212   \n",
              "2   3       2804     139      9                               268   \n",
              "3   4       2785     155     18                               242   \n",
              "4   5       2595      45      2                               153   \n",
              "\n",
              "   Vertical_Distance_To_Hydrology  Horizontal_Distance_To_Roadways  \\\n",
              "0                               0                              510   \n",
              "1                              -6                              390   \n",
              "2                              65                             3180   \n",
              "3                             118                             3090   \n",
              "4                              -1                              391   \n",
              "\n",
              "   Hillshade_9am  Hillshade_Noon  Hillshade_3pm  ...  Soil_Type32  \\\n",
              "0            221             232            148  ...            0   \n",
              "1            220             235            151  ...            0   \n",
              "2            234             238            135  ...            0   \n",
              "3            238             238            122  ...            0   \n",
              "4            220             234            150  ...            0   \n",
              "\n",
              "   Soil_Type33  Soil_Type34  Soil_Type35  Soil_Type36  Soil_Type37  \\\n",
              "0            0            0            0            0            0   \n",
              "1            0            0            0            0            0   \n",
              "2            0            0            0            0            0   \n",
              "3            0            0            0            0            0   \n",
              "4            0            0            0            0            0   \n",
              "\n",
              "   Soil_Type38  Soil_Type39  Soil_Type40  Cover_Type  \n",
              "0            0            0            0           5  \n",
              "1            0            0            0           5  \n",
              "2            0            0            0           2  \n",
              "3            0            0            0           2  \n",
              "4            0            0            0           5  \n",
              "\n",
              "[5 rows x 56 columns]"
            ],
            "text/html": [
              "\n",
              "  <div id=\"df-1b70f8a8-a7f5-49df-9d20-a4cd75ed6d51\" class=\"colab-df-container\">\n",
              "    <div>\n",
              "<style scoped>\n",
              "    .dataframe tbody tr th:only-of-type {\n",
              "        vertical-align: middle;\n",
              "    }\n",
              "\n",
              "    .dataframe tbody tr th {\n",
              "        vertical-align: top;\n",
              "    }\n",
              "\n",
              "    .dataframe thead th {\n",
              "        text-align: right;\n",
              "    }\n",
              "</style>\n",
              "<table border=\"1\" class=\"dataframe\">\n",
              "  <thead>\n",
              "    <tr style=\"text-align: right;\">\n",
              "      <th></th>\n",
              "      <th>Id</th>\n",
              "      <th>Elevation</th>\n",
              "      <th>Aspect</th>\n",
              "      <th>Slope</th>\n",
              "      <th>Horizontal_Distance_To_Hydrology</th>\n",
              "      <th>Vertical_Distance_To_Hydrology</th>\n",
              "      <th>Horizontal_Distance_To_Roadways</th>\n",
              "      <th>Hillshade_9am</th>\n",
              "      <th>Hillshade_Noon</th>\n",
              "      <th>Hillshade_3pm</th>\n",
              "      <th>...</th>\n",
              "      <th>Soil_Type32</th>\n",
              "      <th>Soil_Type33</th>\n",
              "      <th>Soil_Type34</th>\n",
              "      <th>Soil_Type35</th>\n",
              "      <th>Soil_Type36</th>\n",
              "      <th>Soil_Type37</th>\n",
              "      <th>Soil_Type38</th>\n",
              "      <th>Soil_Type39</th>\n",
              "      <th>Soil_Type40</th>\n",
              "      <th>Cover_Type</th>\n",
              "    </tr>\n",
              "  </thead>\n",
              "  <tbody>\n",
              "    <tr>\n",
              "      <th>0</th>\n",
              "      <td>1</td>\n",
              "      <td>2596</td>\n",
              "      <td>51</td>\n",
              "      <td>3</td>\n",
              "      <td>258</td>\n",
              "      <td>0</td>\n",
              "      <td>510</td>\n",
              "      <td>221</td>\n",
              "      <td>232</td>\n",
              "      <td>148</td>\n",
              "      <td>...</td>\n",
              "      <td>0</td>\n",
              "      <td>0</td>\n",
              "      <td>0</td>\n",
              "      <td>0</td>\n",
              "      <td>0</td>\n",
              "      <td>0</td>\n",
              "      <td>0</td>\n",
              "      <td>0</td>\n",
              "      <td>0</td>\n",
              "      <td>5</td>\n",
              "    </tr>\n",
              "    <tr>\n",
              "      <th>1</th>\n",
              "      <td>2</td>\n",
              "      <td>2590</td>\n",
              "      <td>56</td>\n",
              "      <td>2</td>\n",
              "      <td>212</td>\n",
              "      <td>-6</td>\n",
              "      <td>390</td>\n",
              "      <td>220</td>\n",
              "      <td>235</td>\n",
              "      <td>151</td>\n",
              "      <td>...</td>\n",
              "      <td>0</td>\n",
              "      <td>0</td>\n",
              "      <td>0</td>\n",
              "      <td>0</td>\n",
              "      <td>0</td>\n",
              "      <td>0</td>\n",
              "      <td>0</td>\n",
              "      <td>0</td>\n",
              "      <td>0</td>\n",
              "      <td>5</td>\n",
              "    </tr>\n",
              "    <tr>\n",
              "      <th>2</th>\n",
              "      <td>3</td>\n",
              "      <td>2804</td>\n",
              "      <td>139</td>\n",
              "      <td>9</td>\n",
              "      <td>268</td>\n",
              "      <td>65</td>\n",
              "      <td>3180</td>\n",
              "      <td>234</td>\n",
              "      <td>238</td>\n",
              "      <td>135</td>\n",
              "      <td>...</td>\n",
              "      <td>0</td>\n",
              "      <td>0</td>\n",
              "      <td>0</td>\n",
              "      <td>0</td>\n",
              "      <td>0</td>\n",
              "      <td>0</td>\n",
              "      <td>0</td>\n",
              "      <td>0</td>\n",
              "      <td>0</td>\n",
              "      <td>2</td>\n",
              "    </tr>\n",
              "    <tr>\n",
              "      <th>3</th>\n",
              "      <td>4</td>\n",
              "      <td>2785</td>\n",
              "      <td>155</td>\n",
              "      <td>18</td>\n",
              "      <td>242</td>\n",
              "      <td>118</td>\n",
              "      <td>3090</td>\n",
              "      <td>238</td>\n",
              "      <td>238</td>\n",
              "      <td>122</td>\n",
              "      <td>...</td>\n",
              "      <td>0</td>\n",
              "      <td>0</td>\n",
              "      <td>0</td>\n",
              "      <td>0</td>\n",
              "      <td>0</td>\n",
              "      <td>0</td>\n",
              "      <td>0</td>\n",
              "      <td>0</td>\n",
              "      <td>0</td>\n",
              "      <td>2</td>\n",
              "    </tr>\n",
              "    <tr>\n",
              "      <th>4</th>\n",
              "      <td>5</td>\n",
              "      <td>2595</td>\n",
              "      <td>45</td>\n",
              "      <td>2</td>\n",
              "      <td>153</td>\n",
              "      <td>-1</td>\n",
              "      <td>391</td>\n",
              "      <td>220</td>\n",
              "      <td>234</td>\n",
              "      <td>150</td>\n",
              "      <td>...</td>\n",
              "      <td>0</td>\n",
              "      <td>0</td>\n",
              "      <td>0</td>\n",
              "      <td>0</td>\n",
              "      <td>0</td>\n",
              "      <td>0</td>\n",
              "      <td>0</td>\n",
              "      <td>0</td>\n",
              "      <td>0</td>\n",
              "      <td>5</td>\n",
              "    </tr>\n",
              "  </tbody>\n",
              "</table>\n",
              "<p>5 rows × 56 columns</p>\n",
              "</div>\n",
              "    <div class=\"colab-df-buttons\">\n",
              "\n",
              "  <div class=\"colab-df-container\">\n",
              "    <button class=\"colab-df-convert\" onclick=\"convertToInteractive('df-1b70f8a8-a7f5-49df-9d20-a4cd75ed6d51')\"\n",
              "            title=\"Convert this dataframe to an interactive table.\"\n",
              "            style=\"display:none;\">\n",
              "\n",
              "  <svg xmlns=\"http://www.w3.org/2000/svg\" height=\"24px\" viewBox=\"0 -960 960 960\">\n",
              "    <path d=\"M120-120v-720h720v720H120Zm60-500h600v-160H180v160Zm220 220h160v-160H400v160Zm0 220h160v-160H400v160ZM180-400h160v-160H180v160Zm440 0h160v-160H620v160ZM180-180h160v-160H180v160Zm440 0h160v-160H620v160Z\"/>\n",
              "  </svg>\n",
              "    </button>\n",
              "\n",
              "  <style>\n",
              "    .colab-df-container {\n",
              "      display:flex;\n",
              "      gap: 12px;\n",
              "    }\n",
              "\n",
              "    .colab-df-convert {\n",
              "      background-color: #E8F0FE;\n",
              "      border: none;\n",
              "      border-radius: 50%;\n",
              "      cursor: pointer;\n",
              "      display: none;\n",
              "      fill: #1967D2;\n",
              "      height: 32px;\n",
              "      padding: 0 0 0 0;\n",
              "      width: 32px;\n",
              "    }\n",
              "\n",
              "    .colab-df-convert:hover {\n",
              "      background-color: #E2EBFA;\n",
              "      box-shadow: 0px 1px 2px rgba(60, 64, 67, 0.3), 0px 1px 3px 1px rgba(60, 64, 67, 0.15);\n",
              "      fill: #174EA6;\n",
              "    }\n",
              "\n",
              "    .colab-df-buttons div {\n",
              "      margin-bottom: 4px;\n",
              "    }\n",
              "\n",
              "    [theme=dark] .colab-df-convert {\n",
              "      background-color: #3B4455;\n",
              "      fill: #D2E3FC;\n",
              "    }\n",
              "\n",
              "    [theme=dark] .colab-df-convert:hover {\n",
              "      background-color: #434B5C;\n",
              "      box-shadow: 0px 1px 3px 1px rgba(0, 0, 0, 0.15);\n",
              "      filter: drop-shadow(0px 1px 2px rgba(0, 0, 0, 0.3));\n",
              "      fill: #FFFFFF;\n",
              "    }\n",
              "  </style>\n",
              "\n",
              "    <script>\n",
              "      const buttonEl =\n",
              "        document.querySelector('#df-1b70f8a8-a7f5-49df-9d20-a4cd75ed6d51 button.colab-df-convert');\n",
              "      buttonEl.style.display =\n",
              "        google.colab.kernel.accessAllowed ? 'block' : 'none';\n",
              "\n",
              "      async function convertToInteractive(key) {\n",
              "        const element = document.querySelector('#df-1b70f8a8-a7f5-49df-9d20-a4cd75ed6d51');\n",
              "        const dataTable =\n",
              "          await google.colab.kernel.invokeFunction('convertToInteractive',\n",
              "                                                    [key], {});\n",
              "        if (!dataTable) return;\n",
              "\n",
              "        const docLinkHtml = 'Like what you see? Visit the ' +\n",
              "          '<a target=\"_blank\" href=https://colab.research.google.com/notebooks/data_table.ipynb>data table notebook</a>'\n",
              "          + ' to learn more about interactive tables.';\n",
              "        element.innerHTML = '';\n",
              "        dataTable['output_type'] = 'display_data';\n",
              "        await google.colab.output.renderOutput(dataTable, element);\n",
              "        const docLink = document.createElement('div');\n",
              "        docLink.innerHTML = docLinkHtml;\n",
              "        element.appendChild(docLink);\n",
              "      }\n",
              "    </script>\n",
              "  </div>\n",
              "\n",
              "\n",
              "<div id=\"df-5713bb38-6b2d-4024-a7b1-65806a69a73f\">\n",
              "  <button class=\"colab-df-quickchart\" onclick=\"quickchart('df-5713bb38-6b2d-4024-a7b1-65806a69a73f')\"\n",
              "            title=\"Suggest charts\"\n",
              "            style=\"display:none;\">\n",
              "\n",
              "<svg xmlns=\"http://www.w3.org/2000/svg\" height=\"24px\"viewBox=\"0 0 24 24\"\n",
              "     width=\"24px\">\n",
              "    <g>\n",
              "        <path d=\"M19 3H5c-1.1 0-2 .9-2 2v14c0 1.1.9 2 2 2h14c1.1 0 2-.9 2-2V5c0-1.1-.9-2-2-2zM9 17H7v-7h2v7zm4 0h-2V7h2v10zm4 0h-2v-4h2v4z\"/>\n",
              "    </g>\n",
              "</svg>\n",
              "  </button>\n",
              "\n",
              "<style>\n",
              "  .colab-df-quickchart {\n",
              "      --bg-color: #E8F0FE;\n",
              "      --fill-color: #1967D2;\n",
              "      --hover-bg-color: #E2EBFA;\n",
              "      --hover-fill-color: #174EA6;\n",
              "      --disabled-fill-color: #AAA;\n",
              "      --disabled-bg-color: #DDD;\n",
              "  }\n",
              "\n",
              "  [theme=dark] .colab-df-quickchart {\n",
              "      --bg-color: #3B4455;\n",
              "      --fill-color: #D2E3FC;\n",
              "      --hover-bg-color: #434B5C;\n",
              "      --hover-fill-color: #FFFFFF;\n",
              "      --disabled-bg-color: #3B4455;\n",
              "      --disabled-fill-color: #666;\n",
              "  }\n",
              "\n",
              "  .colab-df-quickchart {\n",
              "    background-color: var(--bg-color);\n",
              "    border: none;\n",
              "    border-radius: 50%;\n",
              "    cursor: pointer;\n",
              "    display: none;\n",
              "    fill: var(--fill-color);\n",
              "    height: 32px;\n",
              "    padding: 0;\n",
              "    width: 32px;\n",
              "  }\n",
              "\n",
              "  .colab-df-quickchart:hover {\n",
              "    background-color: var(--hover-bg-color);\n",
              "    box-shadow: 0 1px 2px rgba(60, 64, 67, 0.3), 0 1px 3px 1px rgba(60, 64, 67, 0.15);\n",
              "    fill: var(--button-hover-fill-color);\n",
              "  }\n",
              "\n",
              "  .colab-df-quickchart-complete:disabled,\n",
              "  .colab-df-quickchart-complete:disabled:hover {\n",
              "    background-color: var(--disabled-bg-color);\n",
              "    fill: var(--disabled-fill-color);\n",
              "    box-shadow: none;\n",
              "  }\n",
              "\n",
              "  .colab-df-spinner {\n",
              "    border: 2px solid var(--fill-color);\n",
              "    border-color: transparent;\n",
              "    border-bottom-color: var(--fill-color);\n",
              "    animation:\n",
              "      spin 1s steps(1) infinite;\n",
              "  }\n",
              "\n",
              "  @keyframes spin {\n",
              "    0% {\n",
              "      border-color: transparent;\n",
              "      border-bottom-color: var(--fill-color);\n",
              "      border-left-color: var(--fill-color);\n",
              "    }\n",
              "    20% {\n",
              "      border-color: transparent;\n",
              "      border-left-color: var(--fill-color);\n",
              "      border-top-color: var(--fill-color);\n",
              "    }\n",
              "    30% {\n",
              "      border-color: transparent;\n",
              "      border-left-color: var(--fill-color);\n",
              "      border-top-color: var(--fill-color);\n",
              "      border-right-color: var(--fill-color);\n",
              "    }\n",
              "    40% {\n",
              "      border-color: transparent;\n",
              "      border-right-color: var(--fill-color);\n",
              "      border-top-color: var(--fill-color);\n",
              "    }\n",
              "    60% {\n",
              "      border-color: transparent;\n",
              "      border-right-color: var(--fill-color);\n",
              "    }\n",
              "    80% {\n",
              "      border-color: transparent;\n",
              "      border-right-color: var(--fill-color);\n",
              "      border-bottom-color: var(--fill-color);\n",
              "    }\n",
              "    90% {\n",
              "      border-color: transparent;\n",
              "      border-bottom-color: var(--fill-color);\n",
              "    }\n",
              "  }\n",
              "</style>\n",
              "\n",
              "  <script>\n",
              "    async function quickchart(key) {\n",
              "      const quickchartButtonEl =\n",
              "        document.querySelector('#' + key + ' button');\n",
              "      quickchartButtonEl.disabled = true;  // To prevent multiple clicks.\n",
              "      quickchartButtonEl.classList.add('colab-df-spinner');\n",
              "      try {\n",
              "        const charts = await google.colab.kernel.invokeFunction(\n",
              "            'suggestCharts', [key], {});\n",
              "      } catch (error) {\n",
              "        console.error('Error during call to suggestCharts:', error);\n",
              "      }\n",
              "      quickchartButtonEl.classList.remove('colab-df-spinner');\n",
              "      quickchartButtonEl.classList.add('colab-df-quickchart-complete');\n",
              "    }\n",
              "    (() => {\n",
              "      let quickchartButtonEl =\n",
              "        document.querySelector('#df-5713bb38-6b2d-4024-a7b1-65806a69a73f button');\n",
              "      quickchartButtonEl.style.display =\n",
              "        google.colab.kernel.accessAllowed ? 'block' : 'none';\n",
              "    })();\n",
              "  </script>\n",
              "</div>\n",
              "\n",
              "    </div>\n",
              "  </div>\n"
            ],
            "application/vnd.google.colaboratory.intrinsic+json": {
              "type": "dataframe",
              "variable_name": "forest"
            }
          },
          "metadata": {},
          "execution_count": 11
        }
      ],
      "source": [
        "forest.head()"
      ]
    },
    {
      "cell_type": "markdown",
      "metadata": {
        "id": "AAvZHSLuainY"
      },
      "source": [
        "We then create two `ndarrays` $X$ and $y$ containing data points and labels."
      ]
    },
    {
      "cell_type": "code",
      "execution_count": 9,
      "metadata": {
        "id": "agK39xghainY"
      },
      "outputs": [],
      "source": [
        "X = forest.drop(columns=['Id', 'Cover_Type']).values\n",
        "y = forest['Cover_Type'].values"
      ]
    },
    {
      "cell_type": "code",
      "execution_count": 10,
      "metadata": {
        "id": "hUn8X-MNaina",
        "outputId": "356f8a36-182a-4870-89f8-0d6a0c09e981",
        "colab": {
          "base_uri": "https://localhost:8080/"
        }
      },
      "outputs": [
        {
          "output_type": "execute_result",
          "data": {
            "text/plain": [
              "(array([1, 2, 3, 4, 5, 6, 7]),\n",
              " array([2160, 2160, 2160, 2160, 2160, 2160, 2160]))"
            ]
          },
          "metadata": {},
          "execution_count": 10
        }
      ],
      "source": [
        "np.unique(y, return_counts=True)"
      ]
    },
    {
      "cell_type": "markdown",
      "metadata": {
        "id": "sJpyCGOBaina"
      },
      "source": [
        "The class distribution is perfectly balanced.\n",
        "\n",
        "We also create a train-test split with proportions $2/3-1/3$."
      ]
    },
    {
      "cell_type": "code",
      "execution_count": 11,
      "metadata": {
        "id": "2uLpwmC2ainb"
      },
      "outputs": [],
      "source": [
        "X_train, X_test, y_train, y_test = train_test_split(X, y, test_size=0.2, random_state=42)"
      ]
    },
    {
      "cell_type": "markdown",
      "metadata": {
        "id": "UnA7zkgSainb"
      },
      "source": [
        "Next, we evaluate a tree classifier algorithm on this split."
      ]
    },
    {
      "cell_type": "code",
      "execution_count": 12,
      "metadata": {
        "id": "WJRlhz3Zainc",
        "outputId": "dc0f80e0-d2cd-4ef6-e509-7dee081f83e2",
        "colab": {
          "base_uri": "https://localhost:8080/"
        }
      },
      "outputs": [
        {
          "output_type": "execute_result",
          "data": {
            "text/plain": [
              "np.float64(0.79)"
            ]
          },
          "metadata": {},
          "execution_count": 12
        }
      ],
      "source": [
        "learner = DecisionTreeClassifier(criterion='gini') #the criterion can be either the gini function or the information gain\n",
        "\n",
        "learner.fit(X_train, y_train)\n",
        "y_pred = learner.predict(X_test)\n",
        "test_score = accuracy_score(y_test,y_pred)\n",
        "np.round(test_score, decimals=2)"
      ]
    },
    {
      "cell_type": "markdown",
      "metadata": {
        "id": "Vde0QpMWainc"
      },
      "source": [
        "The resulting tree classifier is quite large and deep."
      ]
    },
    {
      "cell_type": "code",
      "execution_count": 13,
      "metadata": {
        "id": "VmVpoJAraind",
        "outputId": "78a7f991-02d1-428a-8312-de2afa94ae06",
        "colab": {
          "base_uri": "https://localhost:8080/"
        }
      },
      "outputs": [
        {
          "output_type": "execute_result",
          "data": {
            "text/plain": [
              "(3535, 31)"
            ]
          },
          "metadata": {},
          "execution_count": 13
        }
      ],
      "source": [
        "int(learner.tree_.node_count), int(learner.tree_.max_depth)"
      ]
    },
    {
      "cell_type": "markdown",
      "metadata": {
        "id": "VESgt9k8aind"
      },
      "source": [
        "We compute the CV estimate of the risk."
      ]
    },
    {
      "cell_type": "code",
      "execution_count": 14,
      "metadata": {
        "id": "73uNYHrcaind",
        "outputId": "07720533-df97-4251-8593-016e053dcf9d",
        "colab": {
          "base_uri": "https://localhost:8080/"
        }
      },
      "outputs": [
        {
          "output_type": "execute_result",
          "data": {
            "text/plain": [
              "np.float64(0.7)"
            ]
          },
          "metadata": {},
          "execution_count": 14
        }
      ],
      "source": [
        "scores = cross_val_score(learner, X, y, cv=5)\n",
        "np.round(scores.mean(), decimals=2)"
      ]
    },
    {
      "cell_type": "markdown",
      "metadata": {
        "id": "ES3Fmakdaind"
      },
      "source": [
        "Now we look at the learning curve from 1K to 9K examples."
      ]
    },
    {
      "cell_type": "code",
      "execution_count": 15,
      "metadata": {
        "id": "T7rV5qw_aine"
      },
      "outputs": [],
      "source": [
        "sizes = range(1000, 10001, 2000)\n",
        "train_size, train_score, val_score = learning_curve(learner, X, y, train_sizes=sizes, cv=3)"
      ]
    },
    {
      "cell_type": "markdown",
      "source": [],
      "metadata": {
        "id": "1gcf17pcrsjE"
      }
    },
    {
      "cell_type": "code",
      "execution_count": 16,
      "metadata": {
        "scrolled": true,
        "id": "HdKP6biLaine",
        "outputId": "d418d549-89ed-4f0d-b4fa-a006449d2518",
        "colab": {
          "base_uri": "https://localhost:8080/",
          "height": 472
        }
      },
      "outputs": [
        {
          "output_type": "display_data",
          "data": {
            "text/plain": [
              "<Figure size 640x480 with 1 Axes>"
            ],
            "image/png": "[encoded data removed]"
          },
          "metadata": {}
        }
      ],
      "source": [
        "plt.title('Decision tree')\n",
        "train_score_mean = np.mean(train_score, axis=1)\n",
        "train_score_std = np.std(train_score, axis=1)\n",
        "val_score_mean = np.mean(val_score, axis=1)\n",
        "val_score_std = np.std(val_score, axis=1)\n",
        "plt.grid()\n",
        "plt.fill_between(train_size, train_score_mean - train_score_std,\n",
        "                 train_score_mean + train_score_std, alpha=0.1,\n",
        "                 color=\"r\")\n",
        "plt.fill_between(train_size, val_score_mean - val_score_std,\n",
        "                 val_score_mean + val_score_std, alpha=0.1, color=\"g\")\n",
        "plt.plot(train_size, train_score_mean, 'o-', color=\"r\",\n",
        "         label=\"Training accuracy\")\n",
        "plt.plot(train_size, val_score_mean, 'o-', color=\"g\",\n",
        "         label=\"CV accuracy\")\n",
        "plt.legend()\n",
        "plt.xlabel('Training size')\n",
        "plt.ylabel('Accuracy')\n",
        "plt.show()"
      ]
    },
    {
      "cell_type": "markdown",
      "metadata": {
        "id": "iVG1oGWzaine"
      },
      "source": [
        "Zero training error indicates that the algorithm has no bias, while the large difference between training and test performance reveals a high variance. The final cross-validated performance is only $66\\%$."
      ]
    },
    {
      "cell_type": "code",
      "execution_count": 17,
      "metadata": {
        "id": "gJwbOA_-aine",
        "outputId": "17b6cb83-5c96-48e3-a0f3-ceb260ec6fb0",
        "colab": {
          "base_uri": "https://localhost:8080/"
        }
      },
      "outputs": [
        {
          "output_type": "execute_result",
          "data": {
            "text/plain": [
              "[np.float64(0.24),\n",
              " np.float64(0.33),\n",
              " np.float64(0.46),\n",
              " np.float64(0.55),\n",
              " np.float64(0.65)]"
            ]
          },
          "metadata": {},
          "execution_count": 17
        }
      ],
      "source": [
        "list(np.round(np.mean(val_score, 1), decimals=2))"
      ]
    },
    {
      "cell_type": "markdown",
      "metadata": {
        "id": "9e3JGGb8ainf"
      },
      "source": [
        "Let's see what happens when we constrain the depth of the tree."
      ]
    },
    {
      "cell_type": "code",
      "execution_count": 18,
      "metadata": {
        "id": "5CjIyFmUainf"
      },
      "outputs": [],
      "source": [
        "depths = np.arange(1,33,5)\n",
        "learner = DecisionTreeClassifier()\n",
        "train_score, val_score = validation_curve(learner, X, y, param_name='max_depth', param_range=depths, cv=3)"
      ]
    },
    {
      "cell_type": "code",
      "execution_count": 20,
      "metadata": {
        "id": "8Iz06LTqainf",
        "outputId": "bcd12d8b-d3bc-4263-8f65-750ef4d7b1ba",
        "colab": {
          "base_uri": "https://localhost:8080/",
          "height": 472
        }
      },
      "outputs": [
        {
          "output_type": "display_data",
          "data": {
            "text/plain": [
              "<Figure size 640x480 with 1 Axes>"
            ],
            "image/png": "[encoded data removed]"
          },
          "metadata": {}
        }
      ],
      "source": [
        "plt.title('Tree classifier vs. depth')\n",
        "plt.plot(depths, np.mean(val_score, 1), label='CV accuracy')\n",
        "plt.plot(depths, np.mean(train_score, 1), label='Training accuracy')\n",
        "plt.legend()\n",
        "plt.xlabel('Depth')\n",
        "plt.ylabel('Accuracy')\n",
        "plt.show()"
      ]
    },
    {
      "cell_type": "markdown",
      "metadata": {
        "id": "oE8MGyXCainf"
      },
      "source": [
        "Below depth 5 the tree underfits. Then overfitting starts. However, the CV estimate of the accuracy does not get any worse."
      ]
    },
    {
      "cell_type": "markdown",
      "metadata": {
        "id": "JHcsDer9ainf"
      },
      "source": [
        "### MNIST dataset\n",
        "Handwritten numerals. The original dataset is already split in training (60K) and test (10K) sets. For efficiency reasons, we only work with the test set, which we further split in training and test.\n",
        "\n",
        "Each row of the data matrix consists of 785 values: the first value is the label (a number from 0 to 9) and the remaining 784 values are the pixel values (a number from 0 to 255)."
      ]
    },
    {
      "cell_type": "code",
      "execution_count": 21,
      "metadata": {
        "id": "b7cUawp4aing",
        "outputId": "e88b28b0-55ee-4f4d-f134-ccb196ac5624",
        "colab": {
          "base_uri": "https://localhost:8080/",
          "height": 235
        }
      },
      "outputs": [
        {
          "output_type": "execute_result",
          "data": {
            "text/plain": [
              "   label  1x1  1x2  1x3  1x4  1x5  1x6  1x7  1x8  1x9  ...  28x19  28x20  \\\n",
              "0      7    0    0    0    0    0    0    0    0    0  ...      0      0   \n",
              "1      2    0    0    0    0    0    0    0    0    0  ...      0      0   \n",
              "2      1    0    0    0    0    0    0    0    0    0  ...      0      0   \n",
              "3      0    0    0    0    0    0    0    0    0    0  ...      0      0   \n",
              "4      4    0    0    0    0    0    0    0    0    0  ...      0      0   \n",
              "\n",
              "   28x21  28x22  28x23  28x24  28x25  28x26  28x27  28x28  \n",
              "0      0      0      0      0      0      0      0      0  \n",
              "1      0      0      0      0      0      0      0      0  \n",
              "2      0      0      0      0      0      0      0      0  \n",
              "3      0      0      0      0      0      0      0      0  \n",
              "4      0      0      0      0      0      0      0      0  \n",
              "\n",
              "[5 rows x 785 columns]"
            ],
            "text/html": [
              "\n",
              "  <div id=\"df-ef5f8d9c-6134-42cc-91b4-4f1284177f87\" class=\"colab-df-container\">\n",
              "    <div>\n",
              "<style scoped>\n",
              "    .dataframe tbody tr th:only-of-type {\n",
              "        vertical-align: middle;\n",
              "    }\n",
              "\n",
              "    .dataframe tbody tr th {\n",
              "        vertical-align: top;\n",
              "    }\n",
              "\n",
              "    .dataframe thead th {\n",
              "        text-align: right;\n",
              "    }\n",
              "</style>\n",
              "<table border=\"1\" class=\"dataframe\">\n",
              "  <thead>\n",
              "    <tr style=\"text-align: right;\">\n",
              "      <th></th>\n",
              "      <th>label</th>\n",
              "      <th>1x1</th>\n",
              "      <th>1x2</th>\n",
              "      <th>1x3</th>\n",
              "      <th>1x4</th>\n",
              "      <th>1x5</th>\n",
              "      <th>1x6</th>\n",
              "      <th>1x7</th>\n",
              "      <th>1x8</th>\n",
              "      <th>1x9</th>\n",
              "      <th>...</th>\n",
              "      <th>28x19</th>\n",
              "      <th>28x20</th>\n",
              "      <th>28x21</th>\n",
              "      <th>28x22</th>\n",
              "      <th>28x23</th>\n",
              "      <th>28x24</th>\n",
              "      <th>28x25</th>\n",
              "      <th>28x26</th>\n",
              "      <th>28x27</th>\n",
              "      <th>28x28</th>\n",
              "    </tr>\n",
              "  </thead>\n",
              "  <tbody>\n",
              "    <tr>\n",
              "      <th>0</th>\n",
              "      <td>7</td>\n",
              "      <td>0</td>\n",
              "      <td>0</td>\n",
              "      <td>0</td>\n",
              "      <td>0</td>\n",
              "      <td>0</td>\n",
              "      <td>0</td>\n",
              "      <td>0</td>\n",
              "      <td>0</td>\n",
              "      <td>0</td>\n",
              "      <td>...</td>\n",
              "      <td>0</td>\n",
              "      <td>0</td>\n",
              "      <td>0</td>\n",
              "      <td>0</td>\n",
              "      <td>0</td>\n",
              "      <td>0</td>\n",
              "      <td>0</td>\n",
              "      <td>0</td>\n",
              "      <td>0</td>\n",
              "      <td>0</td>\n",
              "    </tr>\n",
              "    <tr>\n",
              "      <th>1</th>\n",
              "      <td>2</td>\n",
              "      <td>0</td>\n",
              "      <td>0</td>\n",
              "      <td>0</td>\n",
              "      <td>0</td>\n",
              "      <td>0</td>\n",
              "      <td>0</td>\n",
              "      <td>0</td>\n",
              "      <td>0</td>\n",
              "      <td>0</td>\n",
              "      <td>...</td>\n",
              "      <td>0</td>\n",
              "      <td>0</td>\n",
              "      <td>0</td>\n",
              "      <td>0</td>\n",
              "      <td>0</td>\n",
              "      <td>0</td>\n",
              "      <td>0</td>\n",
              "      <td>0</td>\n",
              "      <td>0</td>\n",
              "      <td>0</td>\n",
              "    </tr>\n",
              "    <tr>\n",
              "      <th>2</th>\n",
              "      <td>1</td>\n",
              "      <td>0</td>\n",
              "      <td>0</td>\n",
              "      <td>0</td>\n",
              "      <td>0</td>\n",
              "      <td>0</td>\n",
              "      <td>0</td>\n",
              "      <td>0</td>\n",
              "      <td>0</td>\n",
              "      <td>0</td>\n",
              "      <td>...</td>\n",
              "      <td>0</td>\n",
              "      <td>0</td>\n",
              "      <td>0</td>\n",
              "      <td>0</td>\n",
              "      <td>0</td>\n",
              "      <td>0</td>\n",
              "      <td>0</td>\n",
              "      <td>0</td>\n",
              "      <td>0</td>\n",
              "      <td>0</td>\n",
              "    </tr>\n",
              "    <tr>\n",
              "      <th>3</th>\n",
              "      <td>0</td>\n",
              "      <td>0</td>\n",
              "      <td>0</td>\n",
              "      <td>0</td>\n",
              "      <td>0</td>\n",
              "      <td>0</td>\n",
              "      <td>0</td>\n",
              "      <td>0</td>\n",
              "      <td>0</td>\n",
              "      <td>0</td>\n",
              "      <td>...</td>\n",
              "      <td>0</td>\n",
              "      <td>0</td>\n",
              "      <td>0</td>\n",
              "      <td>0</td>\n",
              "      <td>0</td>\n",
              "      <td>0</td>\n",
              "      <td>0</td>\n",
              "      <td>0</td>\n",
              "      <td>0</td>\n",
              "      <td>0</td>\n",
              "    </tr>\n",
              "    <tr>\n",
              "      <th>4</th>\n",
              "      <td>4</td>\n",
              "      <td>0</td>\n",
              "      <td>0</td>\n",
              "      <td>0</td>\n",
              "      <td>0</td>\n",
              "      <td>0</td>\n",
              "      <td>0</td>\n",
              "      <td>0</td>\n",
              "      <td>0</td>\n",
              "      <td>0</td>\n",
              "      <td>...</td>\n",
              "      <td>0</td>\n",
              "      <td>0</td>\n",
              "      <td>0</td>\n",
              "      <td>0</td>\n",
              "      <td>0</td>\n",
              "      <td>0</td>\n",
              "      <td>0</td>\n",
              "      <td>0</td>\n",
              "      <td>0</td>\n",
              "      <td>0</td>\n",
              "    </tr>\n",
              "  </tbody>\n",
              "</table>\n",
              "<p>5 rows × 785 columns</p>\n",
              "</div>\n",
              "    <div class=\"colab-df-buttons\">\n",
              "\n",
              "  <div class=\"colab-df-container\">\n",
              "    <button class=\"colab-df-convert\" onclick=\"convertToInteractive('df-ef5f8d9c-6134-42cc-91b4-4f1284177f87')\"\n",
              "            title=\"Convert this dataframe to an interactive table.\"\n",
              "            style=\"display:none;\">\n",
              "\n",
              "  <svg xmlns=\"http://www.w3.org/2000/svg\" height=\"24px\" viewBox=\"0 -960 960 960\">\n",
              "    <path d=\"M120-120v-720h720v720H120Zm60-500h600v-160H180v160Zm220 220h160v-160H400v160Zm0 220h160v-160H400v160ZM180-400h160v-160H180v160Zm440 0h160v-160H620v160ZM180-180h160v-160H180v160Zm440 0h160v-160H620v160Z\"/>\n",
              "  </svg>\n",
              "    </button>\n",
              "\n",
              "  <style>\n",
              "    .colab-df-container {\n",
              "      display:flex;\n",
              "      gap: 12px;\n",
              "    }\n",
              "\n",
              "    .colab-df-convert {\n",
              "      background-color: #E8F0FE;\n",
              "      border: none;\n",
              "      border-radius: 50%;\n",
              "      cursor: pointer;\n",
              "      display: none;\n",
              "      fill: #1967D2;\n",
              "      height: 32px;\n",
              "      padding: 0 0 0 0;\n",
              "      width: 32px;\n",
              "    }\n",
              "\n",
              "    .colab-df-convert:hover {\n",
              "      background-color: #E2EBFA;\n",
              "      box-shadow: 0px 1px 2px rgba(60, 64, 67, 0.3), 0px 1px 3px 1px rgba(60, 64, 67, 0.15);\n",
              "      fill: #174EA6;\n",
              "    }\n",
              "\n",
              "    .colab-df-buttons div {\n",
              "      margin-bottom: 4px;\n",
              "    }\n",
              "\n",
              "    [theme=dark] .colab-df-convert {\n",
              "      background-color: #3B4455;\n",
              "      fill: #D2E3FC;\n",
              "    }\n",
              "\n",
              "    [theme=dark] .colab-df-convert:hover {\n",
              "      background-color: #434B5C;\n",
              "      box-shadow: 0px 1px 3px 1px rgba(0, 0, 0, 0.15);\n",
              "      filter: drop-shadow(0px 1px 2px rgba(0, 0, 0, 0.3));\n",
              "      fill: #FFFFFF;\n",
              "    }\n",
              "  </style>\n",
              "\n",
              "    <script>\n",
              "      const buttonEl =\n",
              "        document.querySelector('#df-ef5f8d9c-6134-42cc-91b4-4f1284177f87 button.colab-df-convert');\n",
              "      buttonEl.style.display =\n",
              "        google.colab.kernel.accessAllowed ? 'block' : 'none';\n",
              "\n",
              "      async function convertToInteractive(key) {\n",
              "        const element = document.querySelector('#df-ef5f8d9c-6134-42cc-91b4-4f1284177f87');\n",
              "        const dataTable =\n",
              "          await google.colab.kernel.invokeFunction('convertToInteractive',\n",
              "                                                    [key], {});\n",
              "        if (!dataTable) return;\n",
              "\n",
              "        const docLinkHtml = 'Like what you see? Visit the ' +\n",
              "          '<a target=\"_blank\" href=https://colab.research.google.com/notebooks/data_table.ipynb>data table notebook</a>'\n",
              "          + ' to learn more about interactive tables.';\n",
              "        element.innerHTML = '';\n",
              "        dataTable['output_type'] = 'display_data';\n",
              "        await google.colab.output.renderOutput(dataTable, element);\n",
              "        const docLink = document.createElement('div');\n",
              "        docLink.innerHTML = docLinkHtml;\n",
              "        element.appendChild(docLink);\n",
              "      }\n",
              "    </script>\n",
              "  </div>\n",
              "\n",
              "\n",
              "<div id=\"df-5dd9b299-ed65-4f99-af5c-95cd074aa0eb\">\n",
              "  <button class=\"colab-df-quickchart\" onclick=\"quickchart('df-5dd9b299-ed65-4f99-af5c-95cd074aa0eb')\"\n",
              "            title=\"Suggest charts\"\n",
              "            style=\"display:none;\">\n",
              "\n",
              "<svg xmlns=\"http://www.w3.org/2000/svg\" height=\"24px\"viewBox=\"0 0 24 24\"\n",
              "     width=\"24px\">\n",
              "    <g>\n",
              "        <path d=\"M19 3H5c-1.1 0-2 .9-2 2v14c0 1.1.9 2 2 2h14c1.1 0 2-.9 2-2V5c0-1.1-.9-2-2-2zM9 17H7v-7h2v7zm4 0h-2V7h2v10zm4 0h-2v-4h2v4z\"/>\n",
              "    </g>\n",
              "</svg>\n",
              "  </button>\n",
              "\n",
              "<style>\n",
              "  .colab-df-quickchart {\n",
              "      --bg-color: #E8F0FE;\n",
              "      --fill-color: #1967D2;\n",
              "      --hover-bg-color: #E2EBFA;\n",
              "      --hover-fill-color: #174EA6;\n",
              "      --disabled-fill-color: #AAA;\n",
              "      --disabled-bg-color: #DDD;\n",
              "  }\n",
              "\n",
              "  [theme=dark] .colab-df-quickchart {\n",
              "      --bg-color: #3B4455;\n",
              "      --fill-color: #D2E3FC;\n",
              "      --hover-bg-color: #434B5C;\n",
              "      --hover-fill-color: #FFFFFF;\n",
              "      --disabled-bg-color: #3B4455;\n",
              "      --disabled-fill-color: #666;\n",
              "  }\n",
              "\n",
              "  .colab-df-quickchart {\n",
              "    background-color: var(--bg-color);\n",
              "    border: none;\n",
              "    border-radius: 50%;\n",
              "    cursor: pointer;\n",
              "    display: none;\n",
              "    fill: var(--fill-color);\n",
              "    height: 32px;\n",
              "    padding: 0;\n",
              "    width: 32px;\n",
              "  }\n",
              "\n",
              "  .colab-df-quickchart:hover {\n",
              "    background-color: var(--hover-bg-color);\n",
              "    box-shadow: 0 1px 2px rgba(60, 64, 67, 0.3), 0 1px 3px 1px rgba(60, 64, 67, 0.15);\n",
              "    fill: var(--button-hover-fill-color);\n",
              "  }\n",
              "\n",
              "  .colab-df-quickchart-complete:disabled,\n",
              "  .colab-df-quickchart-complete:disabled:hover {\n",
              "    background-color: var(--disabled-bg-color);\n",
              "    fill: var(--disabled-fill-color);\n",
              "    box-shadow: none;\n",
              "  }\n",
              "\n",
              "  .colab-df-spinner {\n",
              "    border: 2px solid var(--fill-color);\n",
              "    border-color: transparent;\n",
              "    border-bottom-color: var(--fill-color);\n",
              "    animation:\n",
              "      spin 1s steps(1) infinite;\n",
              "  }\n",
              "\n",
              "  @keyframes spin {\n",
              "    0% {\n",
              "      border-color: transparent;\n",
              "      border-bottom-color: var(--fill-color);\n",
              "      border-left-color: var(--fill-color);\n",
              "    }\n",
              "    20% {\n",
              "      border-color: transparent;\n",
              "      border-left-color: var(--fill-color);\n",
              "      border-top-color: var(--fill-color);\n",
              "    }\n",
              "    30% {\n",
              "      border-color: transparent;\n",
              "      border-left-color: var(--fill-color);\n",
              "      border-top-color: var(--fill-color);\n",
              "      border-right-color: var(--fill-color);\n",
              "    }\n",
              "    40% {\n",
              "      border-color: transparent;\n",
              "      border-right-color: var(--fill-color);\n",
              "      border-top-color: var(--fill-color);\n",
              "    }\n",
              "    60% {\n",
              "      border-color: transparent;\n",
              "      border-right-color: var(--fill-color);\n",
              "    }\n",
              "    80% {\n",
              "      border-color: transparent;\n",
              "      border-right-color: var(--fill-color);\n",
              "      border-bottom-color: var(--fill-color);\n",
              "    }\n",
              "    90% {\n",
              "      border-color: transparent;\n",
              "      border-bottom-color: var(--fill-color);\n",
              "    }\n",
              "  }\n",
              "</style>\n",
              "\n",
              "  <script>\n",
              "    async function quickchart(key) {\n",
              "      const quickchartButtonEl =\n",
              "        document.querySelector('#' + key + ' button');\n",
              "      quickchartButtonEl.disabled = true;  // To prevent multiple clicks.\n",
              "      quickchartButtonEl.classList.add('colab-df-spinner');\n",
              "      try {\n",
              "        const charts = await google.colab.kernel.invokeFunction(\n",
              "            'suggestCharts', [key], {});\n",
              "      } catch (error) {\n",
              "        console.error('Error during call to suggestCharts:', error);\n",
              "      }\n",
              "      quickchartButtonEl.classList.remove('colab-df-spinner');\n",
              "      quickchartButtonEl.classList.add('colab-df-quickchart-complete');\n",
              "    }\n",
              "    (() => {\n",
              "      let quickchartButtonEl =\n",
              "        document.querySelector('#df-5dd9b299-ed65-4f99-af5c-95cd074aa0eb button');\n",
              "      quickchartButtonEl.style.display =\n",
              "        google.colab.kernel.accessAllowed ? 'block' : 'none';\n",
              "    })();\n",
              "  </script>\n",
              "</div>\n",
              "\n",
              "    </div>\n",
              "  </div>\n"
            ],
            "application/vnd.google.colaboratory.intrinsic+json": {
              "type": "dataframe",
              "variable_name": "mnist"
            }
          },
          "metadata": {},
          "execution_count": 21
        }
      ],
      "source": [
        "mnist = pd.read_csv(\"/content/GenericML/MSA-main/Datasets/MNIST/mnist_test.csv\")\n",
        "mnist.head()"
      ]
    },
    {
      "cell_type": "code",
      "execution_count": 13,
      "metadata": {
        "id": "UGH6xdvnainh",
        "outputId": "1fb72355-8bbd-4947-e1c2-d734e7dfae93",
        "colab": {
          "base_uri": "https://localhost:8080/"
        }
      },
      "outputs": [
        {
          "output_type": "execute_result",
          "data": {
            "text/plain": [
              "(10000, 785)"
            ]
          },
          "metadata": {},
          "execution_count": 13
        }
      ],
      "source": [
        "mnist.shape"
      ]
    },
    {
      "cell_type": "markdown",
      "metadata": {
        "id": "da4A-hDzainh"
      },
      "source": [
        "We create the data matrix, the list of labels, and a train/test split with proportions $4/5-1/5$."
      ]
    },
    {
      "cell_type": "code",
      "execution_count": 17,
      "metadata": {
        "id": "xmstUSn_ainh",
        "outputId": "6a0e7063-5ed1-4c0b-b205-17b465ce347b",
        "colab": {
          "base_uri": "https://localhost:8080/"
        }
      },
      "outputs": [
        {
          "output_type": "stream",
          "name": "stdout",
          "text": [
            "      1x1  1x2  1x3  1x4  1x5  1x6  1x7  1x8  1x9  1x10  ...  28x19  28x20  \\\n",
            "0       0    0    0    0    0    0    0    0    0     0  ...      0      0   \n",
            "1       0    0    0    0    0    0    0    0    0     0  ...      0      0   \n",
            "2       0    0    0    0    0    0    0    0    0     0  ...      0      0   \n",
            "3       0    0    0    0    0    0    0    0    0     0  ...      0      0   \n",
            "4       0    0    0    0    0    0    0    0    0     0  ...      0      0   \n",
            "...   ...  ...  ...  ...  ...  ...  ...  ...  ...   ...  ...    ...    ...   \n",
            "9995    0    0    0    0    0    0    0    0    0     0  ...      0      0   \n",
            "9996    0    0    0    0    0    0    0    0    0     0  ...      0      0   \n",
            "9997    0    0    0    0    0    0    0    0    0     0  ...      0      0   \n",
            "9998    0    0    0    0    0    0    0    0    0     0  ...      0      0   \n",
            "9999    0    0    0    0    0    0    0    0    0     0  ...      0      0   \n",
            "\n",
            "      28x21  28x22  28x23  28x24  28x25  28x26  28x27  28x28  \n",
            "0         0      0      0      0      0      0      0      0  \n",
            "1         0      0      0      0      0      0      0      0  \n",
            "2         0      0      0      0      0      0      0      0  \n",
            "3         0      0      0      0      0      0      0      0  \n",
            "4         0      0      0      0      0      0      0      0  \n",
            "...     ...    ...    ...    ...    ...    ...    ...    ...  \n",
            "9995      0      0      0      0      0      0      0      0  \n",
            "9996      0      0      0      0      0      0      0      0  \n",
            "9997      0      0      0      0      0      0      0      0  \n",
            "9998      0      0      0      0      0      0      0      0  \n",
            "9999      0      0      0      0      0      0      0      0  \n",
            "\n",
            "[10000 rows x 784 columns]\n"
          ]
        }
      ],
      "source": [
        "mnist_X = mnist.drop(\"label\",axis=1)\n",
        "mnist_y = mnist[\"label\"]\n",
        "X = mnist_X.values\n",
        "y = mnist_y.values\n",
        "\n",
        "print(mnist_X)"
      ]
    },
    {
      "cell_type": "code",
      "execution_count": 18,
      "metadata": {
        "id": "bSB8NI54ainh",
        "outputId": "a8baa747-fd8c-4280-fd69-a29b397057f0",
        "colab": {
          "base_uri": "https://localhost:8080/"
        }
      },
      "outputs": [
        {
          "output_type": "execute_result",
          "data": {
            "text/plain": [
              "(array([0, 1, 2, 3, 4, 5, 6, 7, 8, 9]),\n",
              " array([ 980, 1135, 1032, 1010,  982,  892,  958, 1028,  974, 1009]))"
            ]
          },
          "metadata": {},
          "execution_count": 18
        }
      ],
      "source": [
        "np.unique(y, return_counts=True)"
      ]
    },
    {
      "cell_type": "code",
      "execution_count": 19,
      "metadata": {
        "id": "YVXBuTU2ainh"
      },
      "outputs": [],
      "source": [
        "X_train, X_test, y_train, y_test = train_test_split(X, y, test_size=0.2, random_state=42)"
      ]
    },
    {
      "cell_type": "markdown",
      "metadata": {
        "id": "kg7jNXzcaini"
      },
      "source": [
        "In this case, it is instructive to visualize the original images from the list of pixels."
      ]
    },
    {
      "cell_type": "code",
      "execution_count": 20,
      "metadata": {
        "id": "SMtIHhx2aini",
        "outputId": "fbacbad9-64a6-4638-ffbf-d8436efc122b",
        "colab": {
          "base_uri": "https://localhost:8080/",
          "height": 499
        }
      },
      "outputs": [
        {
          "output_type": "display_data",
          "data": {
            "text/plain": [
              "<Figure size 600x600 with 64 Axes>"
            ],
            "image/png": "[encoded data removed]"
          },
          "metadata": {}
        }
      ],
      "source": [
        "plt.figure(figsize=(6,6))\n",
        "for digit_num in range(0,64):\n",
        "    plt.subplot(8,8,digit_num+1)\n",
        "    grid_data = mnist_X.iloc[digit_num].values.reshape(28,28)\n",
        "    plt.imshow(grid_data, interpolation = \"none\", cmap = \"bone_r\")\n",
        "    plt.xticks([])\n",
        "    plt.yticks([])"
      ]
    },
    {
      "cell_type": "markdown",
      "metadata": {
        "id": "KdEqW7-Qaini"
      },
      "source": [
        "We start by checking the performance of the standard tree classifier algorithm."
      ]
    },
    {
      "cell_type": "code",
      "execution_count": 22,
      "metadata": {
        "id": "0TLVAfU_ainj",
        "outputId": "4cd8dc5d-ba49-4fc0-e9e1-bdfe829a4454",
        "colab": {
          "base_uri": "https://localhost:8080/"
        }
      },
      "outputs": [
        {
          "output_type": "execute_result",
          "data": {
            "text/plain": [
              "np.float64(0.8)"
            ]
          },
          "metadata": {},
          "execution_count": 22
        }
      ],
      "source": [
        "tree_lrn = DecisionTreeClassifier(criterion='gini')\n",
        "\n",
        "tree_lrn.fit(X_train, y_train)\n",
        "y_pred = tree_lrn.predict(X_test)\n",
        "test_score = accuracy_score(y_test,y_pred)\n",
        "np.round(test_score, decimals=2)"
      ]
    },
    {
      "cell_type": "code",
      "execution_count": 23,
      "metadata": {
        "id": "Ts1YgRZnainj",
        "outputId": "9648e655-eb19-437b-db66-72b5c15bd902",
        "colab": {
          "base_uri": "https://localhost:8080/"
        }
      },
      "outputs": [
        {
          "output_type": "execute_result",
          "data": {
            "text/plain": [
              "(1611, 21)"
            ]
          },
          "metadata": {},
          "execution_count": 23
        }
      ],
      "source": [
        "int(tree_lrn.tree_.node_count), int(tree_lrn.tree_.max_depth)"
      ]
    },
    {
      "cell_type": "markdown",
      "metadata": {
        "id": "Zp1lbQKZainj"
      },
      "source": [
        "The analysis of the learning curve for the tree classifier algorithm shows essentially no bias and a large variance (see below)."
      ]
    },
    {
      "cell_type": "code",
      "execution_count": 24,
      "metadata": {
        "id": "3PhoW9G5aink"
      },
      "outputs": [],
      "source": [
        "sizes = range(1000, 6666, 1000)\n",
        "train_size, train_score, val_score = learning_curve(tree_lrn, X, y, train_sizes=sizes, cv=3)"
      ]
    },
    {
      "cell_type": "code",
      "execution_count": 25,
      "metadata": {
        "scrolled": true,
        "id": "b7nSHKEzainl",
        "outputId": "233643ad-6bbe-4909-f59a-df27b6cac76e",
        "colab": {
          "base_uri": "https://localhost:8080/",
          "height": 472
        }
      },
      "outputs": [
        {
          "output_type": "display_data",
          "data": {
            "text/plain": [
              "<Figure size 640x480 with 1 Axes>"
            ],
            "image/png": "[encoded data removed]"
          },
          "metadata": {}
        }
      ],
      "source": [
        "plt.title('Decision tree')\n",
        "train_score_mean = np.mean(train_score, axis=1)\n",
        "train_score_std = np.std(train_score, axis=1)\n",
        "val_score_mean = np.mean(val_score, axis=1)\n",
        "val_score_std = np.std(val_score, axis=1)\n",
        "plt.grid()\n",
        "plt.fill_between(train_size, train_score_mean - train_score_std,\n",
        "                 train_score_mean + train_score_std, alpha=0.1,\n",
        "                 color=\"r\")\n",
        "plt.fill_between(train_size, val_score_mean - val_score_std,\n",
        "                 val_score_mean + val_score_std, alpha=0.1, color=\"g\")\n",
        "plt.plot(train_size, train_score_mean, 'o-', color=\"r\",\n",
        "         label=\"Training score\")\n",
        "plt.plot(train_size, val_score_mean, 'o-', color=\"g\",\n",
        "         label=\"CV accuracy\")\n",
        "plt.legend()\n",
        "plt.xlabel('Training size')\n",
        "plt.ylabel('Accuracy')\n",
        "plt.show()"
      ]
    },
    {
      "cell_type": "code",
      "execution_count": null,
      "metadata": {
        "id": "agubeLvTainm"
      },
      "outputs": [],
      "source": [
        "depths = np.arange(1,21,5)\n",
        "tree_lrn = DecisionTreeClassifier(criterion='gini')\n",
        "train_score, val_score = validation_curve(tree_lrn, X, y, param_name='max_depth', param_range=depths, cv=3)"
      ]
    },
    {
      "cell_type": "code",
      "execution_count": null,
      "metadata": {
        "id": "ChJCmkgeainm"
      },
      "outputs": [],
      "source": [
        "plt.title('Tree classifier vs. depth')\n",
        "plt.plot(depths, np.mean(val_score, 1), label='CV accuracy')\n",
        "plt.plot(depths, np.mean(train_score, 1), label='Training accuracy')\n",
        "plt.legend()\n",
        "plt.xlabel('Depth')\n",
        "plt.ylabel('Accuracy')\n",
        "plt.show()"
      ]
    },
    {
      "cell_type": "markdown",
      "source": [
        "\n",
        "\n",
        "learning_curve()\n",
        "\n",
        "  Purpose: Evaluates how the amount of training data affects the model's performance.\n",
        "  X-axis: Represents different sizes of the training dataset (e.g., increasing number of training samples).\n",
        "  What it shows: Plots the training and validation scores as you train your model on progressively larger subsets of the training data.\n",
        "  Goal: Helps you understand if: Your model would benefit from more training data (if the validation score is still improving). Your model is suffering from high bias (underfitting) - indicated by low training and validation scores that converge at a low value. Your model is suffering from high variance (overfitting) - indicated by a significant gap between the high training score and a lower validation score.'\n",
        "\n",
        "Use case: Diagnosing bias-variance issues and determining if gathering more data is likely to improve model performance.\n",
        "\n",
        "validation_curve()\n",
        "\n",
        "  Purpose: Evaluates the impact of a single hyperparameter on the model's performance. (acts like k-cross validation)\n",
        "  X-axis: Represents different values of the chosen hyperparameter. What it shows: Plots the training and validation scores for various settings of that specific hyperparameter.\n",
        "  Goal: Helps you identify the optimal range of values for that hyperparameter to avoid underfitting (low scores for both training and validation) or overfitting (high training score but low validation score). You're looking for the hyperparameter value that maximizes the validation score.\n",
        "\n",
        "Use case: Tuning hyperparameters of your model (e.g., n_neighbors in KNN, C in SVM, max_depth in decision trees).\n"
      ],
      "metadata": {
        "id": "E-pJ6qsmrw5Y"
      }
    }
  ],
  "metadata": {
    "kernelspec": {
      "display_name": "Python 3 (ipykernel)",
      "language": "python",
      "name": "python3"
    },
    "language_info": {
      "codemirror_mode": {
        "name": "ipython",
        "version": 3
      },
      "file_extension": ".py",
      "mimetype": "text/x-python",
      "name": "python",
      "nbconvert_exporter": "python",
      "pygments_lexer": "ipython3",
      "version": "3.8.16"
    },
    "latex_envs": {
      "LaTeX_envs_menu_present": true,
      "autoclose": false,
      "autocomplete": true,
      "bibliofile": "biblio.bib",
      "cite_by": "apalike",
      "current_citInitial": 1,
      "eqLabelWithNumbers": true,
      "eqNumInitial": 1,
      "hotkeys": {
        "equation": "Ctrl-E",
        "itemize": "Ctrl-I"
      },
      "labels_anchors": false,
      "latex_user_defs": false,
      "report_style_numbering": false,
      "user_envs_cfg": false
    },
    "colab": {
      "provenance": []
    }
  },
  "nbformat": 4,
  "nbformat_minor": 0
}